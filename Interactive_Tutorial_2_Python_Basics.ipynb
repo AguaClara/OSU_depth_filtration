{
  "nbformat": 4,
  "nbformat_minor": 0,
  "metadata": {
    "colab": {
      "name": "Interactive-Tutorial-2-Python-Basics.ipynb",
      "provenance": [],
      "include_colab_link": true
    },
    "kernelspec": {
      "name": "python3",
      "display_name": "Python 3"
    }
  },
  "cells": [
    {
      "cell_type": "markdown",
      "metadata": {
        "id": "view-in-github",
        "colab_type": "text"
      },
      "source": [
        "<a href=\"https://colab.research.google.com/github/AguaClara/OSU_depth_filtration/blob/main/Interactive_Tutorial_2_Python_Basics.ipynb\" target=\"_parent\"><img src=\"https://colab.research.google.com/assets/colab-badge.svg\" alt=\"Open In Colab\"/></a>"
      ]
    },
    {
      "cell_type": "markdown",
      "metadata": {
        "id": "W2ZarukKTCeg"
      },
      "source": [
        "# Interactive Tutorial 2: Python Basics\n",
        "\n",
        "Welcome to the Python Basics tutorial! We'll be using code cells in Colab in write and run Python code. Remember that you can refer to the [Python Basics](https://aguaclara.github.io/aguaclara_tutorial/python/python-basics.html) pages in the AguaClara tutorial wiki for help."
      ]
    },
    {
      "cell_type": "markdown",
      "metadata": {
        "id": "uShFw_zOsinn"
      },
      "source": [
        "1. Write Monroe's favorite food in a string. \n",
        "   \n",
        "   *Hint: It's rice and beans. Yum, string beans.*"
      ]
    },
    {
      "cell_type": "code",
      "metadata": {
        "id": "gS2HK0QoSOCI",
        "colab": {
          "base_uri": "https://localhost:8080/"
        },
        "outputId": "81cc963d-2fac-4cb0-fc37-9adbf6b1b71f"
      },
      "source": [
        "favorite_food = 'hotdog'\n",
        "\n",
        "print(favorite_food)"
      ],
      "execution_count": 1,
      "outputs": [
        {
          "output_type": "stream",
          "text": [
            "hotdog\n"
          ],
          "name": "stdout"
        }
      ]
    },
    {
      "cell_type": "markdown",
      "metadata": {
        "id": "qn1dl1K9sxsh"
      },
      "source": [
        "2. Evaluate (1)(2+3)(4^5) using Python math operators."
      ]
    },
    {
      "cell_type": "code",
      "metadata": {
        "id": "0eu5x-w-dOUV",
        "colab": {
          "base_uri": "https://localhost:8080/"
        },
        "outputId": "b9b0781e-d1d3-4d27-d101-3e318315040c"
      },
      "source": [
        "result = 1*(2+3)*(4**5)\n",
        "\n",
        "print(result)"
      ],
      "execution_count": 2,
      "outputs": [
        {
          "output_type": "stream",
          "text": [
            "5120\n"
          ],
          "name": "stdout"
        }
      ]
    },
    {
      "cell_type": "markdown",
      "metadata": {
        "id": "URYUcneFs6AC"
      },
      "source": [
        "3.  Write an expression that evaluates to true if `murky` is false, `colorless` is true, and either `pathogens` or `microbes` is false."
      ]
    },
    {
      "cell_type": "code",
      "metadata": {
        "id": "HhgNU07Fp7y6",
        "colab": {
          "base_uri": "https://localhost:8080/"
        },
        "outputId": "65db57fb-1261-4c02-cb61-b70404908223"
      },
      "source": [
        "murky = False\n",
        "colorless = False\n",
        "pathogens = True\n",
        "microbes = False\n",
        "safe_water_on_tap = True\n",
        "if (murky == 1):\n",
        "  safe_water_on_tap = False\n",
        "elif (colorless == 0):\n",
        "   safe_water_on_tap = False\n",
        "elif (pathogens == 1 or microbes == 1):\n",
        "   safe_water_on_tap = False\n",
        "\n",
        "\n",
        "\n",
        "print(safe_water_on_tap)"
      ],
      "execution_count": 7,
      "outputs": [
        {
          "output_type": "stream",
          "text": [
            "False\n"
          ],
          "name": "stdout"
        }
      ]
    },
    {
      "cell_type": "markdown",
      "metadata": {
        "id": "u8w8ffjctFLJ"
      },
      "source": [
        "4. Write the month and day of your favorite date as a list of 2 integers."
      ]
    },
    {
      "cell_type": "code",
      "metadata": {
        "id": "8e_oqikmwb_X",
        "colab": {
          "base_uri": "https://localhost:8080/"
        },
        "outputId": "d07e4e3a-7dcc-432d-8c15-94d2a4c544c1"
      },
      "source": [
        "date = [3,3]\n",
        "\n",
        "print(date)"
      ],
      "execution_count": 21,
      "outputs": [
        {
          "output_type": "stream",
          "text": [
            "[3, 3]\n"
          ],
          "name": "stdout"
        }
      ]
    },
    {
      "cell_type": "markdown",
      "metadata": {
        "id": "pU8bcsRPtGp2"
      },
      "source": [
        "5. Append the year to the end of the date from the previous cell.\n",
        "\n",
        "   Then, change the last element of the list to itself plus one."
      ]
    },
    {
      "cell_type": "code",
      "metadata": {
        "id": "oTCUXisHzOvX",
        "colab": {
          "base_uri": "https://localhost:8080/"
        },
        "outputId": "23858e35-0039-459b-b642-1b8e6384a174"
      },
      "source": [
        "date = [3,3]\n",
        "date.append(2000)\n",
        "print(date)\n",
        "date[2]=date[2]+1\n",
        "print(date)"
      ],
      "execution_count": 25,
      "outputs": [
        {
          "output_type": "stream",
          "text": [
            "[3, 3, 2000]\n",
            "[3, 3, 2001]\n"
          ],
          "name": "stdout"
        }
      ]
    },
    {
      "cell_type": "markdown",
      "metadata": {
        "id": "qKx4rwbntSYM"
      },
      "source": [
        "6. Reassign the density of aluminum to 2.7."
      ]
    },
    {
      "cell_type": "code",
      "metadata": {
        "id": "UUPtsyl50s4G",
        "colab": {
          "base_uri": "https://localhost:8080/"
        },
        "outputId": "a0e60108-a744-42a0-e86a-de7982a9c2ed"
      },
      "source": [
        "density = {'water' : 1, 'pvc': 1.38, 'aluminum': 27}\n",
        "density[-1]=2.7\n",
        "print(density)"
      ],
      "execution_count": 39,
      "outputs": [
        {
          "output_type": "stream",
          "text": [
            "{'water': 1, 'pvc': 1.38, 'aluminum': 27, -1: 2.7}\n"
          ],
          "name": "stdout"
        }
      ]
    },
    {
      "cell_type": "markdown",
      "metadata": {
        "id": "WFUcSk2atX68"
      },
      "source": [
        "7. Write a conditional statement that prints \"Happy \\_\\_!\" if the date in #4 and #5 falls within the dates of your favorite season. If the date is before the season, print \"It's not \\_\\_ yet.\"; if it's after, print \"\\_\\_ has passed.\" (Replace \\_\\_ with your favorite season.) *Hint: get the month and day of the date.*"
      ]
    },
    {
      "cell_type": "code",
      "metadata": {
        "id": "7datLHot03cD",
        "colab": {
          "base_uri": "https://localhost:8080/"
        },
        "outputId": "6e6ddd4b-195d-4794-f26c-a63bba39ea4b"
      },
      "source": [
        "month=date[0]\n",
        "print(month)\n",
        "if (6 < month < 9):\n",
        "  print('Fav season!')\n",
        "else:\n",
        "  print('Not fav season.')"
      ],
      "execution_count": 34,
      "outputs": [
        {
          "output_type": "stream",
          "text": [
            "3\n",
            "Not fav season.\n"
          ],
          "name": "stdout"
        }
      ]
    },
    {
      "cell_type": "markdown",
      "metadata": {
        "id": "tuvVJFEyt1v5"
      },
      "source": [
        "8. Write a for loop to print all the numbers in the list that are even and greater than 16. \n",
        "   \n",
        "   *Hint: use modulo to determine if numbers are even.*"
      ]
    },
    {
      "cell_type": "code",
      "metadata": {
        "id": "gMAyIx_5htK6",
        "colab": {
          "base_uri": "https://localhost:8080/"
        },
        "outputId": "94b12a1d-fc2c-4ee8-beb5-9ffa7b589e62"
      },
      "source": [
        "nums = [3, 14, 159, 26, 535, 89, 79, 32]\n",
        "\n",
        "new=[]\n",
        "l=len(nums)\n",
        "print(l)\n",
        "for k in range(1,l):\n",
        "  if (nums[k] > 16):\n",
        "    new.append(nums[k])\n",
        "  else:\n",
        "    b=1\n",
        "print(new)\n",
        "newnew=[]\n",
        "j=len(new)\n",
        "for i in range(1,j):\n",
        "  c = new[i] % 2\n",
        "  if (c==0):\n",
        "    newnew.append(new[i])\n",
        "  else:\n",
        "    b=1\n",
        "print(newnew)"
      ],
      "execution_count": 50,
      "outputs": [
        {
          "output_type": "stream",
          "text": [
            "8\n",
            "[159, 26, 535, 89, 79, 32]\n",
            "[26, 32]\n"
          ],
          "name": "stdout"
        }
      ]
    },
    {
      "cell_type": "code",
      "metadata": {
        "id": "6zzg1P09Vrtg"
      },
      "source": [
        ""
      ],
      "execution_count": null,
      "outputs": []
    },
    {
      "cell_type": "markdown",
      "metadata": {
        "id": "FwWHB1dJuINq"
      },
      "source": [
        "9. Write a while loop to calculate the sum of the numbers in the list from #8 until the first 3-digit number -- don't include this number."
      ]
    },
    {
      "cell_type": "code",
      "metadata": {
        "id": "fXiQpez0pwY-",
        "colab": {
          "base_uri": "https://localhost:8080/"
        },
        "outputId": "4e697373-0ebe-4544-964f-e3e386846e67"
      },
      "source": [
        "nums = [3, 14, 159, 26, 535, 89, 79, 32]\n",
        "\n",
        "nums.reverse()\n",
        "print(nums)\n",
        "k=0\n",
        "sum=0\n",
        "while nums[k] < 100:\n",
        "  sum=sum + nums[k]\n",
        "  k=k+1\n",
        "  print(sum)"
      ],
      "execution_count": 70,
      "outputs": [
        {
          "output_type": "stream",
          "text": [
            "[32, 79, 89, 535, 26, 159, 14, 3]\n",
            "32\n",
            "111\n",
            "200\n"
          ],
          "name": "stdout"
        }
      ]
    },
    {
      "cell_type": "markdown",
      "metadata": {
        "id": "rQyqPPPNzb4M"
      },
      "source": [
        "10. Write a function called \"double\" that takes in a number and returns its double. Then, call that function so that x is doubled 6 times (((x\\*2)\\*2)\\*2...).\n",
        "  \n",
        "  *Hint: Don't copy and paste the function 6 times!*"
      ]
    },
    {
      "cell_type": "code",
      "metadata": {
        "id": "MYZDFJlj1V3M",
        "colab": {
          "base_uri": "https://localhost:8080/"
        },
        "outputId": "e696cc0a-d516-4e13-f10a-64ac250231a7"
      },
      "source": [
        "p=4\n",
        "def double(p):\n",
        " return p*2\n",
        "p=1\n",
        "for k in range(0,6):\n",
        " p=double(p)\n",
        "\n",
        "print(p)"
      ],
      "execution_count": 86,
      "outputs": [
        {
          "output_type": "stream",
          "text": [
            "64\n"
          ],
          "name": "stdout"
        }
      ]
    },
    {
      "cell_type": "markdown",
      "metadata": {
        "id": "mxtgUe0gueW_"
      },
      "source": [
        "11. Write a function called \"short\" that takes a list as an input and returns True if the length of the list is less than or equal to 10 and False otherwise.\n",
        "\n",
        "   Then, print the output of the function when called on `a_long_one` and when called on `a_short_one`."
      ]
    },
    {
      "cell_type": "code",
      "metadata": {
        "id": "F4J4lmDthtE7",
        "colab": {
          "base_uri": "https://localhost:8080/"
        },
        "outputId": "927a4e89-fe65-4bdd-8f5e-6bad354ac761"
      },
      "source": [
        "a_long_one = [1, 2, 3, 4, 5, 6, 7, 8, 9, 10, 11]\n",
        "a_short_one = [1, 2, 3]\n",
        "\n",
        "def short(x):\n",
        "  l=len(x)\n",
        "  if (l<=10):\n",
        "    r= True \n",
        "  else:\n",
        "    r=False\n",
        "  print(r)\n",
        "\n",
        "short(a_long_one)\n",
        "short(a_short_one)"
      ],
      "execution_count": 2,
      "outputs": [
        {
          "output_type": "stream",
          "text": [
            "False\n",
            "True\n"
          ],
          "name": "stdout"
        }
      ]
    }
  ]
}