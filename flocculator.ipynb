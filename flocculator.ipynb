{
  "nbformat": 4,
  "nbformat_minor": 0,
  "metadata": {
    "colab": {
      "name": "new.ipynb",
      "provenance": [],
      "include_colab_link": true
    },
    "kernelspec": {
      "name": "python3",
      "display_name": "Python 3"
    },
    "language_info": {
      "name": "python"
    }
  },
  "cells": [
    {
      "cell_type": "markdown",
      "metadata": {
        "id": "view-in-github",
        "colab_type": "text"
      },
      "source": [
        "<a href=\"https://colab.research.google.com/github/AguaClara/OSU_depth_filtration/blob/main/flocculator.ipynb\" target=\"_parent\"><img src=\"https://colab.research.google.com/assets/colab-badge.svg\" alt=\"Open In Colab\"/></a>"
      ]
    },
    {
      "cell_type": "code",
      "metadata": {
        "id": "doSzQ8ypyTmH",
        "outputId": "8c5cea6f-3887-43e2-f9ac-9d7575d8a24e",
        "colab": {
          "base_uri": "https://localhost:8080/",
          "height": 37
        }
      },
      "source": [
        "# -*- coding: utf-8 -*-\n",
        "\"\"\"\n",
        "Created on Thu Jun 24 12:34:18 2021\n",
        "\n",
        "@author: mp489\n",
        "\"\"\""
      ],
      "execution_count": 1,
      "outputs": [
        {
          "output_type": "execute_result",
          "data": {
            "application/vnd.google.colaboratory.intrinsic+json": {
              "type": "string"
            },
            "text/plain": [
              "'\\nCreated on Thu Jun 24 12:34:18 2021\\n\\n@author: mp489\\n'"
            ]
          },
          "metadata": {
            "tags": []
          },
          "execution_count": 1
        }
      ]
    },
    {
      "cell_type": "code",
      "metadata": {
        "id": "l6Cxik2iyMUU",
        "outputId": "25c8e9b8-246f-41a9-dda5-8fe1885c4148",
        "colab": {
          "base_uri": "https://localhost:8080/"
        }
      },
      "source": [
        "!pip install aguaclara"
      ],
      "execution_count": 1,
      "outputs": [
        {
          "output_type": "stream",
          "text": [
            "Collecting aguaclara\n",
            "\u001b[?25l  Downloading https://files.pythonhosted.org/packages/ee/c5/d5af18ac620a47d5cf16b7bc2fc0da9d74cbbfb8cafe2ebbc801a1ea0900/aguaclara-0.2.10.tar.gz (94kB)\n",
            "\u001b[K     |████████████████████████████████| 102kB 3.2MB/s \n",
            "\u001b[?25hRequirement already satisfied: matplotlib in /usr/local/lib/python3.7/dist-packages (from aguaclara) (3.2.2)\n",
            "Requirement already satisfied: urllib3 in /usr/local/lib/python3.7/dist-packages (from aguaclara) (1.24.3)\n",
            "Collecting pint\n",
            "\u001b[?25l  Downloading https://files.pythonhosted.org/packages/33/de/53a77b82553579affab7438d299f850acbc1c4dd741c5ce52594513cb0ef/Pint-0.17-py2.py3-none-any.whl (204kB)\n",
            "\u001b[K     |████████████████████████████████| 215kB 5.0MB/s \n",
            "\u001b[?25hRequirement already satisfied: pandas in /usr/local/lib/python3.7/dist-packages (from aguaclara) (1.1.5)\n",
            "Requirement already satisfied: scipy in /usr/local/lib/python3.7/dist-packages (from aguaclara) (1.4.1)\n",
            "Collecting onshape_client\n",
            "\u001b[?25l  Downloading https://files.pythonhosted.org/packages/e7/e4/687bad02d5f0b04d507e029b7728269706c51c5caf1280223e423a2ac05a/onshape_client-1.6.3-py3-none-any.whl (2.1MB)\n",
            "\u001b[K     |████████████████████████████████| 2.1MB 6.2MB/s \n",
            "\u001b[?25hRequirement already satisfied: kiwisolver>=1.0.1 in /usr/local/lib/python3.7/dist-packages (from matplotlib->aguaclara) (1.3.1)\n",
            "Requirement already satisfied: pyparsing!=2.0.4,!=2.1.2,!=2.1.6,>=2.0.1 in /usr/local/lib/python3.7/dist-packages (from matplotlib->aguaclara) (2.4.7)\n",
            "Requirement already satisfied: numpy>=1.11 in /usr/local/lib/python3.7/dist-packages (from matplotlib->aguaclara) (1.19.5)\n",
            "Requirement already satisfied: cycler>=0.10 in /usr/local/lib/python3.7/dist-packages (from matplotlib->aguaclara) (0.10.0)\n",
            "Requirement already satisfied: python-dateutil>=2.1 in /usr/local/lib/python3.7/dist-packages (from matplotlib->aguaclara) (2.8.1)\n",
            "Requirement already satisfied: importlib-metadata; python_version < \"3.8\" in /usr/local/lib/python3.7/dist-packages (from pint->aguaclara) (4.5.0)\n",
            "Requirement already satisfied: packaging in /usr/local/lib/python3.7/dist-packages (from pint->aguaclara) (20.9)\n",
            "Requirement already satisfied: pytz>=2017.2 in /usr/local/lib/python3.7/dist-packages (from pandas->aguaclara) (2018.9)\n",
            "Requirement already satisfied: certifi>=2017.4.17 in /usr/local/lib/python3.7/dist-packages (from onshape_client->aguaclara) (2021.5.30)\n",
            "Requirement already satisfied: requests-oauthlib in /usr/local/lib/python3.7/dist-packages (from onshape_client->aguaclara) (1.3.0)\n",
            "Collecting ruamel.yaml\n",
            "\u001b[?25l  Downloading https://files.pythonhosted.org/packages/0e/57/19361b93542a1bb071fe8b7dd5ae792de6e8ab86c707aa2c44db08c60b99/ruamel.yaml-0.17.10-py3-none-any.whl (108kB)\n",
            "\u001b[K     |████████████████████████████████| 112kB 16.2MB/s \n",
            "\u001b[?25hRequirement already satisfied: six>=1.10 in /usr/local/lib/python3.7/dist-packages (from onshape_client->aguaclara) (1.15.0)\n",
            "Collecting nulltype\n",
            "  Downloading https://files.pythonhosted.org/packages/00/0f/47dde1a3cceac9858da0bfb92d2279bf5f993ed075b72983e92efc297db3/nulltype-2.3.1-py2.py3-none-any.whl\n",
            "Requirement already satisfied: zipp>=0.5 in /usr/local/lib/python3.7/dist-packages (from importlib-metadata; python_version < \"3.8\"->pint->aguaclara) (3.4.1)\n",
            "Requirement already satisfied: typing-extensions>=3.6.4; python_version < \"3.8\" in /usr/local/lib/python3.7/dist-packages (from importlib-metadata; python_version < \"3.8\"->pint->aguaclara) (3.7.4.3)\n",
            "Requirement already satisfied: requests>=2.0.0 in /usr/local/lib/python3.7/dist-packages (from requests-oauthlib->onshape_client->aguaclara) (2.23.0)\n",
            "Requirement already satisfied: oauthlib>=3.0.0 in /usr/local/lib/python3.7/dist-packages (from requests-oauthlib->onshape_client->aguaclara) (3.1.1)\n",
            "Collecting ruamel.yaml.clib>=0.1.2; platform_python_implementation == \"CPython\" and python_version < \"3.10\"\n",
            "\u001b[?25l  Downloading https://files.pythonhosted.org/packages/22/8e/4d77d58d398bcf2d608d8e953fa739f975fbf2c882f5150ee41f544d638b/ruamel.yaml.clib-0.2.4-cp37-cp37m-manylinux1_x86_64.whl (546kB)\n",
            "\u001b[K     |████████████████████████████████| 552kB 14.0MB/s \n",
            "\u001b[?25hRequirement already satisfied: idna<3,>=2.5 in /usr/local/lib/python3.7/dist-packages (from requests>=2.0.0->requests-oauthlib->onshape_client->aguaclara) (2.10)\n",
            "Requirement already satisfied: chardet<4,>=3.0.2 in /usr/local/lib/python3.7/dist-packages (from requests>=2.0.0->requests-oauthlib->onshape_client->aguaclara) (3.0.4)\n",
            "Building wheels for collected packages: aguaclara\n",
            "  Building wheel for aguaclara (setup.py) ... \u001b[?25l\u001b[?25hdone\n",
            "  Created wheel for aguaclara: filename=aguaclara-0.2.10-cp37-none-any.whl size=107243 sha256=abb9f6dac04e1ca11ceb8608dcae6ad6331ebbbd90d99b8cfc2f89e6c8ce3560\n",
            "  Stored in directory: /root/.cache/pip/wheels/ca/49/8d/cd190eac424c74d5d164af69b86bc6ab405affbaa22e22e57b\n",
            "Successfully built aguaclara\n",
            "Installing collected packages: pint, ruamel.yaml.clib, ruamel.yaml, nulltype, onshape-client, aguaclara\n",
            "Successfully installed aguaclara-0.2.10 nulltype-2.3.1 onshape-client-1.6.3 pint-0.17 ruamel.yaml-0.17.10 ruamel.yaml.clib-0.2.4\n"
          ],
          "name": "stdout"
        }
      ]
    },
    {
      "cell_type": "code",
      "metadata": {
        "id": "lsUS_7XNyQ8q"
      },
      "source": [
        "\n",
        "import aguaclara as ac\n",
        "from aguaclara.core.units import *\n",
        "from aguaclara.core.physchem import *\n",
        "import numpy as np\n",
        "import math as m"
      ],
      "execution_count": 2,
      "outputs": []
    },
    {
      "cell_type": "code",
      "metadata": {
        "id": "M8tdW_fRy_0p",
        "outputId": "e400d395-f4d0-4830-f2bb-e3c5a1732a12",
        "colab": {
          "base_uri": "https://localhost:8080/"
        }
      },
      "source": [
        "\n",
        "#Inputs\n",
        "Q_reactor=(4/3) *(u.mL/u.s) # flow rate of the system\n",
        "Gtheta_goal=20000 #target G*theta to design flocculator to\n",
        "Diam_floctube=(3/16)*(u.inch)\n",
        "R_c=5*u.cm #radius of curvature (the radius of the tube the flocculator is wrapped around)\n",
        "Re_pipetransition=2100\n",
        "v=(1*10**-6)*(u.m**2/u.s)\n",
        "e_pvc=0.12*u.mm #roughness of PVC Re_pipetransition\n",
        "\n",
        "#Calculations\n",
        "Re_f= ((4*Q_reactor)/(np.pi*Diam_floctube*v)).to(u.dimensionless)\n",
        "\n",
        "\n",
        "print(Re_f)\n",
        "\n",
        "\n",
        "#def fric_function(Q_reactor,Diam_floctube,v,e_pvc)\n",
        "if Re_f > Re_pipetransition:\n",
        "  print('Re_f is greater than Re_pipetransition')\n",
        "  fric=0.25/((m.log((e_pvc/3.7*Diam_floctube)+(5.74/(Re_f**0.9))))**2)\n",
        "else:\n",
        "  fric=64/(Re_f)\n",
        "  print('Re_f is not greater than Re_pipetransition')\n",
        "  print(fric)\n",
        "L=1\n",
        "h_f=fric*(8/(ac.GRAVITY*np.pi**2))*((L*Q_reactor**2)/(Diam_floctube**5))\n",
        "\n",
        "\n",
        "\n",
        "R=R_c.to(u.inch)\n",
        "\n",
        "De=(((Diam_floctube/R)**2)*Re_f)\n",
        "print(De)\n",
        "\n",
        "friction_ratio=1+(0.33*m.log(De)**4)\n",
        "print(friction_ratio)\n",
        "\n",
        "h_friction=h_f*friction_ratio\n",
        "Area=(np.pi/4)*Diam_floctube**2\n",
        "theta=(Area*L)/Q_reactor\n",
        "\n",
        "ED_floc=(h_friction*ac.GRAVITY)/theta\n",
        "\n",
        "epsilon=ED_floc.to(u.mW/u.kg)\n",
        "print('Energy dissipation rate is',epsilon)\n",
        "\n",
        "G_floc=((epsilon/v)**(1/2)).to(u.second**-1)\n",
        "print(G_floc)\n",
        "\n",
        "theta_goal=(Gtheta_goal/G_floc).to(u.minute)\n",
        "print(theta_goal)\n",
        "\n",
        "L_goal=theta_goal*(Q_reactor/Area)\n",
        "\n",
        "L_floc=L_goal\n",
        "print('The length of flocculator tubing should be', L_floc.to(u.ft))\n",
        "\n"
      ],
      "execution_count": 3,
      "outputs": [
        {
          "output_type": "stream",
          "text": [
            "356.5 dimensionless\n",
            "Re_f is not greater than Re_pipetransition\n",
            "0.1795 dimensionless\n",
            "3.234 dimensionless\n",
            "1.6263031896627433\n",
            "Energy dissipation rate is 12.85 milliwatt / kilogram\n",
            "113.4 / second\n",
            "2.94 minute\n",
            "The length of flocculator tubing should be 43.32 foot\n"
          ],
          "name": "stdout"
        }
      ]
    }
  ]
}